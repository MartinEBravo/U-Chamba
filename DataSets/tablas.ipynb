{
 "cells": [
  {
   "cell_type": "code",
   "execution_count": 9,
   "metadata": {},
   "outputs": [],
   "source": [
    "import pandas as pd\n",
    "import random \n",
    "import csv\n",
    "\n",
    "from info.info import *"
   ]
  },
  {
   "cell_type": "markdown",
   "metadata": {},
   "source": [
    "# Estudiantes"
   ]
  },
  {
   "cell_type": "code",
   "execution_count": 38,
   "metadata": {},
   "outputs": [],
   "source": [
    "estudiantes = pd.DataFrame(columns=['nombre', 'sexo', 'edad', 'RUT', 'correo' , 'universidad', 'telefono','sector', 'carrera', 'año', \"postulacion\", \"empresa\"])\n",
    "\n",
    "for i in range(10000):\n",
    "\n",
    "    # Selección del Nombre y Sexo\n",
    "    genero = random.randint(0, 2)\n",
    "    if genero > 0:\n",
    "        nombre = random.choice(nombres_hombre)\n",
    "        nombre2 = random.choice(nombres_hombre)\n",
    "        sexo = 'M'\n",
    "    else:\n",
    "        nombre = random.choice(nombres_mujer)\n",
    "        nombre2 = random.choice(nombres_mujer)\n",
    "        sexo = 'F'\n",
    "    apellido = random.choice(apellidos)\n",
    "    apellido2 = random.choice(apellidos)\n",
    "\n",
    "    nombre_completo = nombre + ' ' + nombre2 + ', ' + apellido + ' ' + apellido2\n",
    "   \n",
    "    # Selección de la edad\n",
    "    edad = random.randint(18, 30)\n",
    "\n",
    "    # Selección de la universidad\n",
    "    u = random.random()\n",
    "    if   u < 0.2: universidad = 'Universidad de Chile'\n",
    "    elif u < 0.4: universidad = 'Pontificia Universidad Católica de Chile'\n",
    "    elif u < 0.5: universidad = 'Universidad de Concepción'\n",
    "    else:         universidad = random.choice(universidades_chilenas)\n",
    "\n",
    "    # Creación del Correo\n",
    "    c = random.random()\n",
    "    if   c < 0.2: correo = nombre.lower()    + '.' + apellido.lower() + '@' + correos_universidades[universidad].lower()\n",
    "    elif c < 0.4: correo = nombre[0].lower() + '.' + apellido.lower() + '@' + correos_universidades[universidad].lower()\n",
    "    elif c < 0.6: correo = nombre.lower()    + '.' + apellido[0].lower() + str(random.randint(0,99)) + '@' + correos_universidades[universidad].lower()\n",
    "    else:         correo = nombre[0].lower() + '.' + apellido.lower() + str(random.randint(0,99)) + '@' + correos_universidades[universidad].lower()\n",
    "    \n",
    "\n",
    "    # creación del RUT\n",
    "    if   edad < 20: \n",
    "        rut = '21' \n",
    "        año = random.randint(1,3)\n",
    "    elif edad < 24:\n",
    "        rut = '20'\n",
    "        año = random.randint(2,4)\n",
    "    elif edad < 28:\n",
    "        rut = '19'\n",
    "        año = random.randint(4,6)\n",
    "    else:           \n",
    "        rut = '18'\n",
    "        año = random.randint(6,8)\n",
    "    rut += '.'+ \"\".join([str(random.randint(0,9)) for _ in range(3)]) +'.'+ \"\".join([str(random.randint(0,9)) for _ in range(3)]) +'-'+ random.choice(indice)\n",
    "\n",
    "    telefono = \"+56 9 \"+ \"\".join([str(random.randint(0,9)) for _ in range(4)]) +\"-\"+ \"\".join([str(random.randint(0,9)) for _ in range(4)])\n",
    "    \n",
    "    # Creación de la carrera\n",
    "    s = random.random()\n",
    "    if   s < 0.4: sector = \"Ingeniería y Tecnología\"\n",
    "    elif s < 0.6: sector = \"Ciencias de la Salud\"\n",
    "    elif s < 0.8: sector = \"Ciencias Sociales y Humanidades\"\n",
    "    elif s < 0.9: sector = \"Ciencias Naturales\"\n",
    "    else:         sector = \"Arte y Diseño\"\n",
    "    \n",
    "    carrera = random.choice(sectores_de_estudios[sector])\n",
    "\n",
    "    # Creación de la postulación\n",
    "    postulacion = random.choice(ofertas_de_practicas[sector][carrera])\n",
    "    empresa = random.choice(empresas[sector])\n",
    "\n",
    "    estudiantes.loc[i] = [nombre_completo, sexo, edad, rut, correo, universidad, telefono, sector, carrera, año,postulacion, empresa]"
   ]
  },
  {
   "cell_type": "code",
   "execution_count": 39,
   "metadata": {},
   "outputs": [],
   "source": [
    "# eliminar duplicados por rut\n",
    "estudiantes.drop_duplicates(subset='RUT', inplace=True)\n",
    "\n",
    "estudiantes.to_csv('estudiantes.csv', index=False)"
   ]
  },
  {
   "cell_type": "code",
   "execution_count": 37,
   "metadata": {},
   "outputs": [],
   "source": [
    "def desocupacion_regiones():\n",
    "    with open(\"info/desocupacion.csv\", \"r\") as csvfile:\n",
    "        reader = csv.reader(csvfile, delimiter=',', quotechar='\"')\n",
    "        i=0\n",
    "        for i, row in enumerate(reader):\n",
    "            if i==0:\n",
    "                index = row.index(\"Sep.2023\")\n",
    "                L = [\"Desocupacion\"]\n",
    "                continue\n",
    "            L.append(row[index])\n",
    "    return L\n",
    "            \n",
    "            \n",
    "\n",
    "def pib_regiones(line: str):\n",
    "    n = 0\n",
    "    com = False\n",
    "    for i, x in enumerate(line):\n",
    "        if x=='\"':\n",
    "            com = not com\n",
    "        if com: continue\n",
    "        if x==\",\":\n",
    "            n+=1\n",
    "            if n==2:\n",
    "                r = line[:i]\n",
    "            if n==11:\n",
    "                return r+line[i:]\n",
    "\n",
    "def limipiar_regiones():\n",
    "    with open(\"info/PIB_regiones.csv\", \"r\", encoding=\"utf-8\") as file:\n",
    "        lines = file.readlines()\n",
    "\n",
    "    lines = [pib_regiones(line) for line in lines]\n",
    "    desocupacion = desocupacion_regiones()\n",
    "    for i in range(len(lines)):\n",
    "        if i<len(lines)-1:\n",
    "            lines[i] = f\"{lines[i][:-1]},{desocupacion[i]}\\n\"\n",
    "        else:\n",
    "            lines[i] = f\"{lines[i]},{desocupacion[i]}\"\n",
    "\n",
    "\n",
    "    with open(\"regiones.csv\", \"w\", encoding=\"utf-8\") as file:\n",
    "        file.writelines(lines)\n",
    "limipiar_regiones()"
   ]
  },
  {
   "cell_type": "markdown",
   "metadata": {},
   "source": [
    "# Postulacion"
   ]
  },
  {
   "cell_type": "code",
   "execution_count": null,
   "metadata": {},
   "outputs": [],
   "source": [
    "with open(\"ofertas.csv\", \"w\") as ofertasfile:\n",
    "    pass\n",
    "\n",
    "with open(\"postulaciones.csv\", \"w\") as postulacionesfile:\n",
    "    pass\n",
    "\n",
    "\n"
   ]
  }
 ],
 "metadata": {
  "kernelspec": {
   "display_name": "Python 3",
   "language": "python",
   "name": "python3"
  },
  "language_info": {
   "codemirror_mode": {
    "name": "ipython",
    "version": 3
   },
   "file_extension": ".py",
   "mimetype": "text/x-python",
   "name": "python",
   "nbconvert_exporter": "python",
   "pygments_lexer": "ipython3",
   "version": "3.11.1"
  },
  "orig_nbformat": 4
 },
 "nbformat": 4,
 "nbformat_minor": 2
}
